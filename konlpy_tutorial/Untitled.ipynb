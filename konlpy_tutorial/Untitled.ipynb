{
 "cells": [
  {
   "cell_type": "code",
   "execution_count": 65,
   "metadata": {},
   "outputs": [],
   "source": [
    "from konlpy.tag import Mecab\n",
    "import sys\n",
    "from gensim.models.keyedvectors import KeyedVectors\n",
    "from gensim.models import FastText as fText"
   ]
  },
  {
   "cell_type": "code",
   "execution_count": 66,
   "metadata": {},
   "outputs": [],
   "source": [
    "mecab = Mecab()"
   ]
  },
  {
   "cell_type": "code",
   "execution_count": 67,
   "metadata": {},
   "outputs": [
    {
     "data": {
      "text/plain": [
       "['영등포', '구청', '역', '에', '있', '는', '맛집', '좀', '알려', '주', '세요']"
      ]
     },
     "execution_count": 67,
     "metadata": {},
     "output_type": "execute_result"
    }
   ],
   "source": [
    "# 형태소 단위로 구분\n",
    "mecab.morphs( \"영등포 구청역에 있는 맛집 좀 알려주세요 \")"
   ]
  },
  {
   "cell_type": "code",
   "execution_count": 68,
   "metadata": {},
   "outputs": [
    {
     "data": {
      "text/plain": [
       "['영등포', '구청', '역', '맛집']"
      ]
     },
     "execution_count": 68,
     "metadata": {},
     "output_type": "execute_result"
    }
   ],
   "source": [
    "# 명사만 추출\n",
    "mecab.nouns( \"영등포 구청역에 있는 맛집 좀 알려주세요\")"
   ]
  },
  {
   "cell_type": "code",
   "execution_count": 76,
   "metadata": {},
   "outputs": [
    {
     "data": {
      "text/plain": [
       "[('법원', 'NNG'), ('맛집', 'NNG')]"
      ]
     },
     "execution_count": 76,
     "metadata": {},
     "output_type": "execute_result"
    }
   ],
   "source": [
    "# 형태소 단위구분 + 품사 패깅 \n"
   ]
  },
  {
   "cell_type": "code",
   "execution_count": 70,
   "metadata": {},
   "outputs": [],
   "source": [
    "wv_model = fText.load_fasttext_format(\"/Users/Choichanghyun/MachineLearning/model/kor_model.bin\")\n"
   ]
  },
  {
   "cell_type": "code",
   "execution_count": 85,
   "metadata": {},
   "outputs": [
    {
     "data": {
      "text/plain": [
       "[('최측근', 0.6585880517959595),\n",
       " ('이동+진료', 0.5321372151374817),\n",
       " ('쓰레기메일', 0.5144888162612915),\n",
       " ('가볍다', 0.5065310001373291),\n",
       " ('소회하다', 0.5022796392440796),\n",
       " ('공급+실적', 0.49647384881973267),\n",
       " ('끽', 0.49545255303382874),\n",
       " ('합작+사인', 0.49541568756103516),\n",
       " ('ㄴ', 0.4953455626964569),\n",
       " ('추가+설치', 0.4914093017578125)]"
      ]
     },
     "execution_count": 85,
     "metadata": {},
     "output_type": "execute_result"
    }
   ],
   "source": [
    "wv_model.wv.most_similar(\"강도죄\")"
   ]
  },
  {
   "cell_type": "code",
   "execution_count": null,
   "metadata": {},
   "outputs": [],
   "source": []
  },
  {
   "cell_type": "code",
   "execution_count": 72,
   "metadata": {},
   "outputs": [],
   "source": [
    "wv_model2 = fText.load_fasttext_format(\"/Users/Choichanghyun/MachineLearning/model/kor_model_subwordngram1.bin\")"
   ]
  },
  {
   "cell_type": "code",
   "execution_count": 84,
   "metadata": {},
   "outputs": [
    {
     "data": {
      "text/plain": [
       "[('죽을죄', 0.7743696570396423),\n",
       " ('중죄', 0.7607943415641785),\n",
       " ('증강', 0.7601045370101929),\n",
       " ('유죄', 0.7588033676147461),\n",
       " ('강은탁', 0.7568050622940063),\n",
       " ('강압', 0.754648745059967),\n",
       " ('첸나이', 0.7522549033164978),\n",
       " ('나례', 0.7513056993484497),\n",
       " ('㎽', 0.7512807846069336),\n",
       " ('정은이', 0.7480176687240601)]"
      ]
     },
     "execution_count": 84,
     "metadata": {},
     "output_type": "execute_result"
    }
   ],
   "source": [
    "wv_model2.wv.most_similar(\"강도죄\")"
   ]
  },
  {
   "cell_type": "code",
   "execution_count": null,
   "metadata": {},
   "outputs": [],
   "source": []
  }
 ],
 "metadata": {
  "kernelspec": {
   "display_name": "Python 3",
   "language": "python",
   "name": "python3"
  },
  "language_info": {
   "codemirror_mode": {
    "name": "ipython",
    "version": 3
   },
   "file_extension": ".py",
   "mimetype": "text/x-python",
   "name": "python",
   "nbconvert_exporter": "python",
   "pygments_lexer": "ipython3",
   "version": "3.6.1"
  }
 },
 "nbformat": 4,
 "nbformat_minor": 2
}
